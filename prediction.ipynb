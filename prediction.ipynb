{
 "cells": [
  {
   "cell_type": "code",
   "execution_count": 0,
   "metadata": {
    "application/vnd.databricks.v1+cell": {
     "cellMetadata": {
      "byteLimit": 2048000,
      "rowLimit": 10000
     },
     "inputWidgets": {},
     "nuid": "974dad42-4962-4ff1-bb11-9e1969ea8698",
     "showTitle": false,
     "tableResultSettingsMap": {},
     "title": ""
    }
   },
   "outputs": [
    {
     "output_type": "stream",
     "name": "stdout",
     "output_type": "stream",
     "text": [
      "Mean Squared Error (MSE): 0.09300374423452125\nModel uploaded successfully to Azure Blob Storage as linear_regression_model.pkl\n"
     ]
    },
    {
     "output_type": "display_data",
     "data": {
      "text/html": [
       "<style scoped>\n",
       "  .table-result-container {\n",
       "    max-height: 300px;\n",
       "    overflow: auto;\n",
       "  }\n",
       "  table, th, td {\n",
       "    border: 1px solid black;\n",
       "    border-collapse: collapse;\n",
       "  }\n",
       "  th, td {\n",
       "    padding: 5px;\n",
       "  }\n",
       "  th {\n",
       "    text-align: left;\n",
       "  }\n",
       "</style><div class='table-result-container'><table class='table-result'><thead style='background-color: white'><tr><th>prediction</th></tr></thead><tbody><tr><td>1.4977245580746181</td></tr><tr><td>1.450763840579021</td></tr><tr><td>1.5426892711696023</td></tr><tr><td>1.5700672999067151</td></tr></tbody></table></div>"
      ]
     },
     "metadata": {
      "application/vnd.databricks.v1+output": {
       "addedWidgets": {},
       "aggData": [],
       "aggError": "",
       "aggOverflow": false,
       "aggSchema": [],
       "aggSeriesLimitReached": false,
       "aggType": "",
       "arguments": {},
       "columnCustomDisplayInfos": {},
       "data": [
        [
         1.4977245580746181
        ],
        [
         1.450763840579021
        ],
        [
         1.5426892711696023
        ],
        [
         1.5700672999067151
        ]
       ],
       "datasetInfos": [],
       "dbfsResultPath": null,
       "isJsonSchema": true,
       "metadata": {},
       "overflow": false,
       "plotOptions": {
        "customPlotOptions": {},
        "displayType": "table",
        "pivotAggregation": null,
        "pivotColumns": null,
        "xColumns": null,
        "yColumns": null
       },
       "removedWidgets": [],
       "schema": [
        {
         "metadata": "{}",
         "name": "prediction",
         "type": "\"double\""
        }
       ],
       "type": "table"
      }
     },
     "output_type": "display_data"
    },
    {
     "output_type": "stream",
     "name": "stdout",
     "output_type": "stream",
     "text": [
      "Predictions saved to Azure Blob Storage as predictions.csv\n"
     ]
    }
   ],
   "source": [
    "from pyspark.sql import SparkSession\n",
    "from pyspark.ml.feature import VectorAssembler\n",
    "from sklearn.linear_model import LinearRegression\n",
    "from sklearn.model_selection import train_test_split\n",
    "from sklearn.metrics import mean_squared_error\n",
    "import joblib\n",
    "import numpy as np\n",
    "import pandas as pd\n",
    "from azure.storage.blob import BlobServiceClient\n",
    "import io\n",
    "import os\n",
    "\n",
    "spark = SparkSession.builder \\\n",
    "    .appName(\"ETL ML Training and Deployment\") \\\n",
    "    .getOrCreate()\n",
    "\n",
    "new_data = [\n",
    "    (1.5, 2.3, 3.1, 4.0, 5.2),\n",
    "    (1.4, 2.2, 3.0, 4.1, 5.1),\n",
    "    (1.7, 2.5, 3.3, 4.3, 5.4),\n",
    "    (1.8, 2.6, 3.4, 4.4, 5.5),\n",
    "]\n",
    "\n",
    "columns = ['feature1', 'feature2', 'feature3', 'feature4', 'feature5']\n",
    "\n",
    "new_data_df = spark.createDataFrame(new_data, columns)\n",
    "\n",
    "assembler = VectorAssembler(inputCols=columns, outputCol=\"features\")\n",
    "assembled_data = assembler.transform(new_data_df)\n",
    "\n",
    "X = np.random.rand(100, 5)\n",
    "y = np.random.rand(100)\n",
    "\n",
    "X_train, X_test, y_train, y_test = train_test_split(X, y, test_size=0.2, random_state=42)\n",
    "\n",
    "model = LinearRegression()\n",
    "model.fit(X_train, y_train)\n",
    "\n",
    "y_pred = model.predict(X_test)\n",
    "mse = mean_squared_error(y_test, y_pred)\n",
    "print(f\"Mean Squared Error (MSE): {mse}\")\n",
    "\n",
    "connection_string = \"DefaultEndpointsProtocol=https;AccountName=thirdtry3;AccountKey=R2tz5fvj0ZdyJ2Cjb4OjyRlaNc1MS9tTPfc5uWjWjnpzm2C7MWtZr1k+7Hnawhesoj/eIPfO05+F+AStoGzFjQ==;EndpointSuffix=core.windows.net\"\n",
    "container_name = \"mycontainer\"\n",
    "model_blob_name = \"linear_regression_model.pkl\"\n",
    "\n",
    "blob_service_client = BlobServiceClient.from_connection_string(connection_string)\n",
    "\n",
    "blob_client = blob_service_client.get_blob_client(container=container_name, blob=model_blob_name)\n",
    "\n",
    "os.makedirs(\"/dbfs/tmp\", exist_ok=True)\n",
    "\n",
    "with open(\"/dbfs/tmp/linear_regression_model.pkl\", \"wb\") as model_file:\n",
    "    joblib.dump(model, model_file)\n",
    "\n",
    "with open(\"/dbfs/tmp/linear_regression_model.pkl\", \"rb\") as model_file:\n",
    "    blob_client.upload_blob(model_file, overwrite=True)\n",
    "\n",
    "print(f\"Model uploaded successfully to Azure Blob Storage as {model_blob_name}\")\n",
    "\n",
    "def generate_predictions(model, assembled_data):\n",
    "    pandas_df = assembled_data.select('features').toPandas()\n",
    "    features = np.array(pandas_df['features'].tolist())\n",
    "\n",
    "    predictions = model.predict(features)\n",
    "\n",
    "    prediction_df = spark.createDataFrame(pd.DataFrame({'prediction': predictions}))\n",
    "    return prediction_df\n",
    "\n",
    "prediction_df = generate_predictions(model, assembled_data)\n",
    "\n",
    "display(prediction_df)\n",
    "\n",
    "prediction_pandas_df = prediction_df.toPandas()\n",
    "\n",
    "predictions_blob_name = \"predictions.csv\"\n",
    "predictions_blob_client = blob_service_client.get_blob_client(container=container_name, blob=predictions_blob_name)\n",
    "\n",
    "with io.BytesIO() as output:\n",
    "    prediction_pandas_df.to_csv(output, index=False)\n",
    "    output.seek(0)\n",
    "    predictions_blob_client.upload_blob(output, overwrite=True)\n",
    "\n",
    "print(f\"Predictions saved to Azure Blob Storage as {predictions_blob_name}\")"
   ]
  }
 ],
 "metadata": {
  "application/vnd.databricks.v1+notebook": {
   "computePreferences": null,
   "dashboards": [],
   "environmentMetadata": {
    "base_environment": "",
    "client": "1"
   },
   "language": "python",
   "notebookMetadata": {
    "pythonIndentUnit": 4
   },
   "notebookName": "prediction.py",
   "widgets": {}
  },
  "language_info": {
   "name": "python"
  }
 },
 "nbformat": 4,
 "nbformat_minor": 0
}